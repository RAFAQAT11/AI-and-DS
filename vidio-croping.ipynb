{
 "cells": [
  {
   "cell_type": "code",
   "execution_count": 21,
   "metadata": {},
   "outputs": [],
   "source": [
    "import skvideo.io as vio\n",
    "import numpy as np"
   ]
  },
  {
   "cell_type": "code",
   "execution_count": 22,
   "metadata": {},
   "outputs": [],
   "source": [
    "vid = vio.vread(\"./alien.mp4\")"
   ]
  },
  {
   "cell_type": "code",
   "execution_count": 23,
   "metadata": {},
   "outputs": [
    {
     "data": {
      "text/plain": [
       "(3132, 360, 640, 3)"
      ]
     },
     "execution_count": 23,
     "metadata": {},
     "output_type": "execute_result"
    }
   ],
   "source": [
    "vid.shape"
   ]
  },
  {
   "cell_type": "code",
   "execution_count": 27,
   "metadata": {},
   "outputs": [],
   "source": [
    "def crop_vid_rgb(img,crop_x,crop_y,center=True):\n",
    "    \"\"\"\n",
    "        img: numpy array\n",
    "        crop_x: number of pixels for x dim\n",
    "        crop_y: number of pixels for y dim\n",
    "        center: true for center\n",
    "    \"\"\"\n",
    "    *_,y, x, _ = img.shape\n",
    "    start_y, end_y, start_x, end_x = \\\n",
    "    (y//2 - crop_y, y//2 + crop_y, x//2 - crop_x, x//2 + crop_x) \\\n",
    "    if center else \\\n",
    "    (0, crop_y, 0, crop_x)\n",
    "    print(start_y, end_y, start_x, end_x,x,y)\n",
    "    return img[...,start_y:end_y,start_x:end_x,:]"
   ]
  },
  {
   "cell_type": "code",
   "execution_count": 31,
   "metadata": {},
   "outputs": [
    {
     "name": "stdout",
     "output_type": "stream",
     "text": [
      "130 230 270 370 640 360\n"
     ]
    }
   ],
   "source": [
    "crop_vid_center = crop_vid_rgb(vid,50,50)"
   ]
  },
  {
   "cell_type": "code",
   "execution_count": 32,
   "metadata": {},
   "outputs": [
    {
     "data": {
      "text/plain": [
       "(3132, 100, 100, 3)"
      ]
     },
     "execution_count": 32,
     "metadata": {},
     "output_type": "execute_result"
    }
   ],
   "source": [
    "crop_vid_center.shape"
   ]
  },
  {
   "cell_type": "code",
   "execution_count": 33,
   "metadata": {},
   "outputs": [],
   "source": [
    "vio.vwrite(\"armony.mp4\",crop_vid_center)"
   ]
  },
  {
   "cell_type": "code",
   "execution_count": null,
   "metadata": {},
   "outputs": [],
   "source": []
  }
 ],
 "metadata": {
  "kernelspec": {
   "display_name": "Python 3",
   "language": "python",
   "name": "python3"
  },
  "language_info": {
   "codemirror_mode": {
    "name": "ipython",
    "version": 3
   },
   "file_extension": ".py",
   "mimetype": "text/x-python",
   "name": "python",
   "nbconvert_exporter": "python",
   "pygments_lexer": "ipython3",
   "version": "3.8.3"
  }
 },
 "nbformat": 4,
 "nbformat_minor": 4
}
