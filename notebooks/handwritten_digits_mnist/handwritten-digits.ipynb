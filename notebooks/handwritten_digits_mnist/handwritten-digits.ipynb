{
  "nbformat": 4,
  "nbformat_minor": 0,
  "metadata": {
    "colab": {
      "name": "Nabeel-pa-g-01.ipynb",
      "provenance": [],
      "collapsed_sections": []
    },
    "kernelspec": {
      "name": "python3",
      "display_name": "Python 3"
    },
    "accelerator": "GPU"
  },
  "cells": [
    {
      "cell_type": "code",
      "metadata": {
        "id": "kZz28wIcx-F_"
      },
      "source": [
        "!wget -q -r -A '*ubyte.gz' --no-parent  'http://yann.lecun.com/exdb/mnist/'\n",
        "!rm -rf DATA\n",
        "!mkdir DATA\n",
        "!mv yann.lecun.com/exdb/mnist/* DATA/\n",
        "!rm -rf yann.lecun.com\n",
        "!gunzip DATA/*"
      ],
      "execution_count": null,
      "outputs": []
    },
    {
      "cell_type": "code",
      "metadata": {
        "id": "0PZiSsQiyE0y",
        "colab": {
          "base_uri": "https://localhost:8080/",
          "height": 51
        },
        "outputId": "aeef6ca9-8d8b-496e-c28b-5a03c31b8c5b"
      },
      "source": [
        "!ls DATA"
      ],
      "execution_count": null,
      "outputs": [
        {
          "output_type": "stream",
          "text": [
            "t10k-images-idx3-ubyte\ttrain-images-idx3-ubyte\n",
            "t10k-labels-idx1-ubyte\ttrain-labels-idx1-ubyte\n"
          ],
          "name": "stdout"
        }
      ]
    },
    {
      "cell_type": "code",
      "metadata": {
        "id": "Fpw8vZ7CyKYg"
      },
      "source": [
        "!pip3 install -q idx2numpy\n",
        "\n",
        "import idx2numpy\n",
        "import numpy as np\n",
        "import matplotlib.pyplot as plt"
      ],
      "execution_count": null,
      "outputs": []
    },
    {
      "cell_type": "code",
      "metadata": {
        "id": "C5yUmYMuyONW"
      },
      "source": [
        "X_train = idx2numpy.convert_from_file('DATA/train-images-idx3-ubyte')\n",
        "Y_train = idx2numpy.convert_from_file('DATA/train-labels-idx1-ubyte')\n",
        "\n",
        "X_test = idx2numpy.convert_from_file('DATA/t10k-images-idx3-ubyte')\n",
        "Y_test = idx2numpy.convert_from_file('DATA/t10k-labels-idx1-ubyte')"
      ],
      "execution_count": null,
      "outputs": []
    },
    {
      "cell_type": "code",
      "metadata": {
        "id": "1yV2Mylmyg9F"
      },
      "source": [
        "X_cross = X_train[50000:]\n",
        "Y_cross = Y_train[50000:]\n",
        "\n",
        "X_train = X_train[:50000]\n",
        "Y_train = Y_train[:50000]"
      ],
      "execution_count": null,
      "outputs": []
    },
    {
      "cell_type": "code",
      "metadata": {
        "id": "zYQ0JbcSyhRw",
        "colab": {
          "base_uri": "https://localhost:8080/",
          "height": 119
        },
        "outputId": "eb43cc2d-5d02-40dc-f552-bff5481df6f7"
      },
      "source": [
        "print(\"X_Train\",X_train.shape)\n",
        "print(\"Y_Train\",X_train.shape)\n",
        "\n",
        "print(\"X_cross\",X_cross.shape)\n",
        "print(\"Y_cross\",X_cross.shape)\n",
        "\n",
        "print(\"X_Test\",X_test.shape)\n",
        "print(\"Y_Test\",X_test.shape)"
      ],
      "execution_count": null,
      "outputs": [
        {
          "output_type": "stream",
          "text": [
            "X_Train (50000, 28, 28)\n",
            "Y_Train (50000, 28, 28)\n",
            "X_cross (10000, 28, 28)\n",
            "Y_cross (10000, 28, 28)\n",
            "X_Test (10000, 28, 28)\n",
            "Y_Test (10000, 28, 28)\n"
          ],
          "name": "stdout"
        }
      ]
    },
    {
      "cell_type": "code",
      "metadata": {
        "id": "9OuTix9zyykR",
        "colab": {
          "base_uri": "https://localhost:8080/",
          "height": 493
        },
        "outputId": "6e11050b-e3ff-4584-e79d-259c416b2ad1"
      },
      "source": [
        "np.set_printoptions(linewidth=np.nan)\n",
        "print(X_train[13])"
      ],
      "execution_count": null,
      "outputs": [
        {
          "output_type": "stream",
          "text": [
            "[[  0   0   0   0   0   0   0   0   0   0   0   0   0   0   0   0   0   0   0   0   0   0   0   0   0   0   0   0]\n",
            " [  0   0   0   0   0   0   0   0   0   0   0   0   0   0   0   0   0   0   0   0   0   0   0   0   0   0   0   0]\n",
            " [  0   0   0   0   0   0   0   0   0   0   0   0   0   0   0   0  38 222 225   0   0   0   0   0   0   0   0   0]\n",
            " [  0   0   0   0   0   0   0   0   0   0   0   0   0   0   0 147 234 252 176   0   0   0   0   0   0   0   0   0]\n",
            " [  0   0   0   0   0   0   0   0   0   0   0   0   0  23 197 253 252 208  19   0   0   0   0   0   0   0   0   0]\n",
            " [  0   0   0   0   0   0   0   0   0   0   0   0  38 178 252 253 117  65   0   0   0   0   0   0   0   0   0   0]\n",
            " [  0   0   0   0   0   0   0   0   0   0   0   0  57 252 252 253  89   0   0   0   0   0   0   0   0   0   0   0]\n",
            " [  0   0   0   0   0   0   0   0   0   0   0  38 222 253 253  79   0   0   0   0   0   0   0   0   0   0   0   0]\n",
            " [  0   0   0   0   0   0   0   0   0   0   0 131 252 179  27   0   0   0   0   0   0   0   0   0   0   0   0   0]\n",
            " [  0   0   0   0   0   0   0   0   0   0 198 246 220  37   0   0   0   0   0   0   0   0   0   0   0   0   0   0]\n",
            " [  0   0   0   0   0   0   0   0   0  79 253 252 135  28   0   0   0   0   0   0   0   0   0   0   0   0   0   0]\n",
            " [  0   0   0   0   0   0   0   0  16 140 253 252 118   0   0   0   0 111 140 140   0   0   0   0   0   0   0   0]\n",
            " [  0   0   0   0   0   0   0   0  13 191 255 253  56   0   0 114 113 222 253 253 255  27   0   0   0   0   0   0]\n",
            " [  0   0   0   0   0   0   0   0  76 252 253 223  37   0  48 174 252 252 242 214 253 199  31   0   0   0   0   0]\n",
            " [  0   0   0   0   0   0   0  13 109 252 228 130   0  38 165 253 233 164  49  63 253 214  31   0   0   0   0   0]\n",
            " [  0   0   0   0   0   0   0  73 252 252 126   0  23 178 252 240 148   7  44 215 240 148   0   0   0   0   0   0]\n",
            " [  0   0   0   0   0   0   0 119 252 252   0   0 197 252 252  63   0  57 252 252 140   0   0   0   0   0   0   0]\n",
            " [  0   0   0   0   0   0   0 135 253 174   0  48 229 253 112   0  38 222 253 112   0   0   0   0   0   0   0   0]\n",
            " [  0   0   0   0   0   0   0 135 252 173   0  48 227 252 158 226 234 201  27  12   0   0   0   0   0   0   0   0]\n",
            " [  0   0   0   0   0   0   0  57 252 252  57 104 240 252 252 253 233  74   0   0   0   0   0   0   0   0   0   0]\n",
            " [  0   0   0   0   0   0   0  51 242 252 253 252 252 252 252 240 148   0   0   0   0   0   0   0   0   0   0   0]\n",
            " [  0   0   0   0   0   0   0   0  75 189 253 252 252 157 112  63   0   0   0   0   0   0   0   0   0   0   0   0]\n",
            " [  0   0   0   0   0   0   0   0   0   0   0   0   0   0   0   0   0   0   0   0   0   0   0   0   0   0   0   0]\n",
            " [  0   0   0   0   0   0   0   0   0   0   0   0   0   0   0   0   0   0   0   0   0   0   0   0   0   0   0   0]\n",
            " [  0   0   0   0   0   0   0   0   0   0   0   0   0   0   0   0   0   0   0   0   0   0   0   0   0   0   0   0]\n",
            " [  0   0   0   0   0   0   0   0   0   0   0   0   0   0   0   0   0   0   0   0   0   0   0   0   0   0   0   0]\n",
            " [  0   0   0   0   0   0   0   0   0   0   0   0   0   0   0   0   0   0   0   0   0   0   0   0   0   0   0   0]\n",
            " [  0   0   0   0   0   0   0   0   0   0   0   0   0   0   0   0   0   0   0   0   0   0   0   0   0   0   0   0]]\n"
          ],
          "name": "stdout"
        }
      ]
    },
    {
      "cell_type": "code",
      "metadata": {
        "id": "rXWzINK1y8i0",
        "colab": {
          "base_uri": "https://localhost:8080/",
          "height": 265
        },
        "outputId": "520891fa-e817-4f33-b3f4-04d5f8c5cc1e"
      },
      "source": [
        "digit = X_train[12]\n",
        "plt.imshow(digit)\n",
        "plt.show()"
      ],
      "execution_count": null,
      "outputs": [
        {
          "output_type": "display_data",
          "data": {
            "image/png": "[encoded data removed]",
            "text/plain": [
              "<Figure size 432x288 with 1 Axes>"
            ]
          },
          "metadata": {
            "tags": [],
            "needs_background": "light"
          }
        }
      ]
    },
    {
      "cell_type": "code",
      "metadata": {
        "id": "sEqaU40xzHaA"
      },
      "source": [
        "import tensorflow as tf\n",
        "from tensorflow.keras.models import Sequential\n",
        "from tensorflow.keras.layers import Dense, Activation\n",
        "from tensorflow.keras.utils import to_categorical"
      ],
      "execution_count": null,
      "outputs": []
    },
    {
      "cell_type": "code",
      "metadata": {
        "id": "y8B-yOYNzVR2"
      },
      "source": [
        "X_train = X_train.reshape(X_train.shape[0], -1) # flattens X_train to 50,000 * (1*28*28) : Basically keeps the first dimension intact and flattens all other dimensions\n",
        "X_train = X_train.astype('float32')\n",
        "X_train /= 255\n",
        "\n",
        "X_cross = X_cross.reshape(X_cross.shape[0], -1)\n",
        "X_cross = X_cross.astype('float32')\n",
        "X_cross /= 255\n",
        "\n",
        "X_test = X_test.reshape(X_test.shape[0], -1)\n",
        "X_test = X_test.astype('float32')\n",
        "X_test /= 255\n",
        "\n",
        "\n",
        "Y_train = to_categorical(Y_train, 10)\n",
        "Y_cross = to_categorical(Y_cross, 10)\n",
        "Y_test = to_categorical(Y_test, 10)\n",
        "\n",
        "num_classes = Y_test.shape[1]"
      ],
      "execution_count": null,
      "outputs": []
    },
    {
      "cell_type": "code",
      "metadata": {
        "id": "PaTw17Bcz6mo",
        "colab": {
          "base_uri": "https://localhost:8080/",
          "height": 119
        },
        "outputId": "3bf9155c-696c-4005-e9d4-1f2455e50054"
      },
      "source": [
        "print(\"X_Train\",X_train.shape)\n",
        "print(\"Y_Train\",X_train.shape)\n",
        "\n",
        "print(\"X_cross\",X_cross.shape)\n",
        "print(\"Y_cross\",X_cross.shape)\n",
        "\n",
        "print(\"X_Test\",X_test.shape)\n",
        "print(\"Y_Test\",X_test.shape)"
      ],
      "execution_count": null,
      "outputs": [
        {
          "output_type": "stream",
          "text": [
            "X_Train (50000, 784)\n",
            "Y_Train (50000, 784)\n",
            "X_cross (10000, 784)\n",
            "Y_cross (10000, 784)\n",
            "X_Test (10000, 784)\n",
            "Y_Test (10000, 784)\n"
          ],
          "name": "stdout"
        }
      ]
    },
    {
      "cell_type": "code",
      "metadata": {
        "id": "UAYpoaIx0eWW"
      },
      "source": [
        "model = Sequential()\n",
        "\n",
        "# First Hidden Layer (input layer is implicit from the input_dim)\n",
        "model.add( Dense(units=100, input_shape=(28*28,), activation='relu',name='Hidden-1'))\n",
        "\n",
        "# Second Hidden Layer\n",
        "model.add( Dense(units=100, activation='relu',name='Hidden-2') )\n",
        "\n",
        "# Output layer\n",
        "model.add( Dense(units=num_classes, activation='sigmoid',name='OutputLayer') )"
      ],
      "execution_count": null,
      "outputs": []
    },
    {
      "cell_type": "code",
      "metadata": {
        "id": "wDFOVDDX0lGV",
        "colab": {
          "base_uri": "https://localhost:8080/",
          "height": 255
        },
        "outputId": "9ad8a69d-74f2-49f7-9c69-ac57c5ed9fcd"
      },
      "source": [
        "model.compile(loss='categorical_crossentropy', optimizer='sgd', metrics=['accuracy'])\n",
        "model.summary()"
      ],
      "execution_count": null,
      "outputs": [
        {
          "output_type": "stream",
          "text": [
            "Model: \"sequential\"\n",
            "_________________________________________________________________\n",
            "Layer (type)                 Output Shape              Param #   \n",
            "=================================================================\n",
            "Hidden-1 (Dense)             (None, 100)               78500     \n",
            "_________________________________________________________________\n",
            "Hidden-2 (Dense)             (None, 100)               10100     \n",
            "_________________________________________________________________\n",
            "OutputLayer (Dense)          (None, 10)                1010      \n",
            "=================================================================\n",
            "Total params: 89,610\n",
            "Trainable params: 89,610\n",
            "Non-trainable params: 0\n",
            "_________________________________________________________________\n"
          ],
          "name": "stdout"
        }
      ]
    },
    {
      "cell_type": "code",
      "metadata": {
        "id": "gdAdsQi30qno",
        "colab": {
          "base_uri": "https://localhost:8080/",
          "height": 697
        },
        "outputId": "a8702d00-8938-49eb-bdca-4b57a6b58036"
      },
      "source": [
        "history = model.fit(X_train, Y_train, validation_data=(X_cross, Y_cross), epochs=20, batch_size=200, verbose=1)"
      ],
      "execution_count": null,
      "outputs": [
        {
          "output_type": "stream",
          "text": [
            "Epoch 1/20\n",
            "250/250 [==============================] - 1s 3ms/step - loss: 2.1746 - accuracy: 0.3520 - val_loss: 2.0030 - val_accuracy: 0.5808\n",
            "Epoch 2/20\n",
            "250/250 [==============================] - 1s 3ms/step - loss: 1.6197 - accuracy: 0.6871 - val_loss: 1.0656 - val_accuracy: 0.8001\n",
            "Epoch 3/20\n",
            "250/250 [==============================] - 1s 3ms/step - loss: 0.8156 - accuracy: 0.8162 - val_loss: 0.5947 - val_accuracy: 0.8665\n",
            "Epoch 4/20\n",
            "250/250 [==============================] - 1s 3ms/step - loss: 0.5582 - accuracy: 0.8585 - val_loss: 0.4569 - val_accuracy: 0.8854\n",
            "Epoch 5/20\n",
            "250/250 [==============================] - 1s 3ms/step - loss: 0.4617 - accuracy: 0.8768 - val_loss: 0.3941 - val_accuracy: 0.8961\n",
            "Epoch 6/20\n",
            "250/250 [==============================] - 1s 3ms/step - loss: 0.4108 - accuracy: 0.8875 - val_loss: 0.3589 - val_accuracy: 0.9047\n",
            "Epoch 7/20\n",
            "250/250 [==============================] - 1s 3ms/step - loss: 0.3793 - accuracy: 0.8947 - val_loss: 0.3356 - val_accuracy: 0.9075\n",
            "Epoch 8/20\n",
            "250/250 [==============================] - 1s 3ms/step - loss: 0.3574 - accuracy: 0.8994 - val_loss: 0.3179 - val_accuracy: 0.9105\n",
            "Epoch 9/20\n",
            "250/250 [==============================] - 1s 3ms/step - loss: 0.3400 - accuracy: 0.9045 - val_loss: 0.3051 - val_accuracy: 0.9132\n",
            "Epoch 10/20\n",
            "250/250 [==============================] - 1s 3ms/step - loss: 0.3267 - accuracy: 0.9077 - val_loss: 0.2960 - val_accuracy: 0.9178\n",
            "Epoch 11/20\n",
            "250/250 [==============================] - 1s 3ms/step - loss: 0.3153 - accuracy: 0.9103 - val_loss: 0.2861 - val_accuracy: 0.9197\n",
            "Epoch 12/20\n",
            "250/250 [==============================] - 1s 3ms/step - loss: 0.3053 - accuracy: 0.9132 - val_loss: 0.2782 - val_accuracy: 0.9213\n",
            "Epoch 13/20\n",
            "250/250 [==============================] - 1s 3ms/step - loss: 0.2965 - accuracy: 0.9159 - val_loss: 0.2732 - val_accuracy: 0.9227\n",
            "Epoch 14/20\n",
            "250/250 [==============================] - 1s 3ms/step - loss: 0.2886 - accuracy: 0.9171 - val_loss: 0.2645 - val_accuracy: 0.9242\n",
            "Epoch 15/20\n",
            "250/250 [==============================] - 1s 3ms/step - loss: 0.2809 - accuracy: 0.9196 - val_loss: 0.2576 - val_accuracy: 0.9272\n",
            "Epoch 16/20\n",
            "250/250 [==============================] - 1s 3ms/step - loss: 0.2740 - accuracy: 0.9217 - val_loss: 0.2522 - val_accuracy: 0.9287\n",
            "Epoch 17/20\n",
            "250/250 [==============================] - 1s 3ms/step - loss: 0.2676 - accuracy: 0.9232 - val_loss: 0.2450 - val_accuracy: 0.9305\n",
            "Epoch 18/20\n",
            "250/250 [==============================] - 1s 3ms/step - loss: 0.2616 - accuracy: 0.9252 - val_loss: 0.2425 - val_accuracy: 0.9307\n",
            "Epoch 19/20\n",
            "250/250 [==============================] - 1s 3ms/step - loss: 0.2557 - accuracy: 0.9266 - val_loss: 0.2385 - val_accuracy: 0.9327\n",
            "Epoch 20/20\n",
            "250/250 [==============================] - 1s 3ms/step - loss: 0.2503 - accuracy: 0.9280 - val_loss: 0.2323 - val_accuracy: 0.9351\n"
          ],
          "name": "stdout"
        }
      ]
    },
    {
      "cell_type": "code",
      "metadata": {
        "id": "Y3VMq8-Z00QE",
        "colab": {
          "base_uri": "https://localhost:8080/",
          "height": 295
        },
        "outputId": "d216a18e-3e91-4152-a9db-e6a761d46a8b"
      },
      "source": [
        "plt.plot(history.history['accuracy'])\n",
        "plt.plot(history.history['val_accuracy'])\n",
        "plt.title('model accuracy')\n",
        "plt.ylabel('accuracy')\n",
        "plt.xlabel('epoch')\n",
        "plt.legend(['train', 'cross validation'], loc='upper left')\n",
        "plt.show()"
      ],
      "execution_count": null,
      "outputs": [
        {
          "output_type": "display_data",
          "data": {
            "image/png": "[encoded data removed]",
            "text/plain": [
              "<Figure size 432x288 with 1 Axes>"
            ]
          },
          "metadata": {
            "tags": [],
            "needs_background": "light"
          }
        }
      ]
    },
    {
      "cell_type": "code",
      "metadata": {
        "id": "_FBjlr7K0514",
        "colab": {
          "base_uri": "https://localhost:8080/",
          "height": 295
        },
        "outputId": "52084822-e31f-43d1-b1b2-575f7e48929f"
      },
      "source": [
        "plt.plot(history.history['loss'])\n",
        "plt.plot(history.history['val_loss'])\n",
        "plt.title('model loss')\n",
        "plt.ylabel('loss')\n",
        "plt.xlabel('epoch')\n",
        "plt.legend(['train', 'cross validation'], loc='upper left')\n",
        "plt.show()"
      ],
      "execution_count": null,
      "outputs": [
        {
          "output_type": "display_data",
          "data": {
            "image/png": "[encoded data removed]",
            "text/plain": [
              "<Figure size 432x288 with 1 Axes>"
            ]
          },
          "metadata": {
            "tags": [],
            "needs_background": "light"
          }
        }
      ]
    },
    {
      "cell_type": "code",
      "metadata": {
        "id": "N3wW1O5D0_py"
      },
      "source": [
        "prediction = model.predict(X_test)"
      ],
      "execution_count": null,
      "outputs": []
    },
    {
      "cell_type": "code",
      "metadata": {
        "id": "fRa97M1l1O71",
        "colab": {
          "base_uri": "https://localhost:8080/",
          "height": 51
        },
        "outputId": "b495e0c7-db2b-4ffc-d154-b66182932d79"
      },
      "source": [
        "print(prediction.shape)\n",
        "print(Y_test.shape)"
      ],
      "execution_count": null,
      "outputs": [
        {
          "output_type": "stream",
          "text": [
            "(10000, 10)\n",
            "(10000, 10)\n"
          ],
          "name": "stdout"
        }
      ]
    },
    {
      "cell_type": "code",
      "metadata": {
        "id": "haH-rJzq1dXH"
      },
      "source": [
        "preIndex = np.argmax(prediction,axis=1)\n",
        "labIndex = np.argmax(Y_test,axis=1)"
      ],
      "execution_count": null,
      "outputs": []
    },
    {
      "cell_type": "code",
      "metadata": {
        "id": "0HBvNfQw2Eo1"
      },
      "source": [
        "confusion_matrix = tf.math.confusion_matrix(labIndex,preIndex)"
      ],
      "execution_count": null,
      "outputs": []
    },
    {
      "cell_type": "code",
      "metadata": {
        "id": "kdclIXKo2J03",
        "colab": {
          "base_uri": "https://localhost:8080/",
          "height": 204
        },
        "outputId": "dac013a7-e112-4e42-968f-0f00cf8a2530"
      },
      "source": [
        "confusion_matrix"
      ],
      "execution_count": null,
      "outputs": [
        {
          "output_type": "execute_result",
          "data": {
            "text/plain": [
              "<tf.Tensor: shape=(10, 10), dtype=int32, numpy=\n",
              "array([[ 959,    0,    2,    1,    0,    3,   10,    2,    3,    0],\n",
              "       [   0, 1113,    3,    2,    0,    1,    3,    2,   11,    0],\n",
              "       [   8,    4,  947,   10,    8,    0,   15,   14,   20,    6],\n",
              "       [   3,    0,   20,  929,    0,   17,    3,   14,   14,   10],\n",
              "       [   1,    1,    5,    0,  910,    0,   13,    4,    7,   41],\n",
              "       [  11,    4,    4,   32,    8,  779,   18,    7,   19,   10],\n",
              "       [  11,    3,    5,    1,   12,    8,  914,    2,    2,    0],\n",
              "       [   3,    8,   23,    5,    5,    0,    0,  957,    3,   24],\n",
              "       [   8,    7,    6,   18,    8,   16,   11,   12,  880,    8],\n",
              "       [  11,    6,    1,    8,   30,    3,    1,   18,    6,  925]], dtype=int32)>"
            ]
          },
          "metadata": {
            "tags": []
          },
          "execution_count": 41
        }
      ]
    },
    {
      "cell_type": "code",
      "metadata": {
        "id": "XbpB2Xvj3b6s",
        "colab": {
          "base_uri": "https://localhost:8080/",
          "height": 54
        },
        "outputId": "e4a8db60-a8ed-40cb-ce29-eb122e2c726e"
      },
      "source": [
        "\n",
        "dic = {}\n",
        "\n",
        "names = [\"Actual_Zero\",\"Actual_One\",\"Actual_Two\",\"Actual_Three\",\"Actual_Four\",\"Actual_Five\",\"Actual_Six\",\"Actual_Seven\",\"Actual_Eight\",\"Actual_Nine\"]\n",
        "\n",
        "\n",
        "dic[\"confusion_matrix\"]=names\n",
        "\n",
        "for idx,name in enumerate(names):\n",
        "  vals = [confusion_matrix[i][idx].numpy() for i in range(10)]\n",
        "  dic[\"Predicted_\"+name.split(\"_\")[1]]=vals\n",
        "  # print(name,idx)\n",
        "\n",
        "print(dic)"
      ],
      "execution_count": null,
      "outputs": [
        {
          "output_type": "stream",
          "text": [
            "{'confusion_matrix': ['Actual_Zero', 'Actual_One', 'Actual_Two', 'Actual_Three', 'Actual_Four', 'Actual_Five', 'Actual_Six', 'Actual_Seven', 'Actual_Eight', 'Actual_Nine'], 'Predicted_Zero': [959, 0, 8, 3, 1, 11, 11, 3, 8, 11], 'Predicted_One': [0, 1113, 4, 0, 1, 4, 3, 8, 7, 6], 'Predicted_Two': [2, 3, 947, 20, 5, 4, 5, 23, 6, 1], 'Predicted_Three': [1, 2, 10, 929, 0, 32, 1, 5, 18, 8], 'Predicted_Four': [0, 0, 8, 0, 910, 8, 12, 5, 8, 30], 'Predicted_Five': [3, 1, 0, 17, 0, 779, 8, 0, 16, 3], 'Predicted_Six': [10, 3, 15, 3, 13, 18, 914, 0, 11, 1], 'Predicted_Seven': [2, 2, 14, 14, 4, 7, 2, 957, 12, 18], 'Predicted_Eight': [3, 11, 20, 14, 7, 19, 2, 3, 880, 6], 'Predicted_Nine': [0, 0, 6, 10, 41, 10, 0, 24, 8, 925]}\n"
          ],
          "name": "stdout"
        }
      ]
    },
    {
      "cell_type": "code",
      "metadata": {
        "id": "-64SvJDa6OWB",
        "colab": {
          "base_uri": "https://localhost:8080/",
          "height": 359
        },
        "outputId": "5c815e29-02c8-46ac-a6c0-ed78f1adeb0b"
      },
      "source": [
        "import pandas as pd\n",
        "pd.DataFrame(dic)"
      ],
      "execution_count": null,
      "outputs": [
        {
          "output_type": "execute_result",
          "data": {
            "text/html": [
              "<div>\n",
              "<style scoped>\n",
              "    .dataframe tbody tr th:only-of-type {\n",
              "        vertical-align: middle;\n",
              "    }\n",
              "\n",
              "    .dataframe tbody tr th {\n",
              "        vertical-align: top;\n",
              "    }\n",
              "\n",
              "    .dataframe thead th {\n",
              "        text-align: right;\n",
              "    }\n",
              "</style>\n",
              "<table border=\"1\" class=\"dataframe\">\n",
              "  <thead>\n",
              "    <tr style=\"text-align: right;\">\n",
              "      <th></th>\n",
              "      <th>confusion_matrix</th>\n",
              "      <th>Predicted_Zero</th>\n",
              "      <th>Predicted_One</th>\n",
              "      <th>Predicted_Two</th>\n",
              "      <th>Predicted_Three</th>\n",
              "      <th>Predicted_Four</th>\n",
              "      <th>Predicted_Five</th>\n",
              "      <th>Predicted_Six</th>\n",
              "      <th>Predicted_Seven</th>\n",
              "      <th>Predicted_Eight</th>\n",
              "      <th>Predicted_Nine</th>\n",
              "    </tr>\n",
              "  </thead>\n",
              "  <tbody>\n",
              "    <tr>\n",
              "      <th>0</th>\n",
              "      <td>Actual_Zero</td>\n",
              "      <td>959</td>\n",
              "      <td>0</td>\n",
              "      <td>2</td>\n",
              "      <td>1</td>\n",
              "      <td>0</td>\n",
              "      <td>3</td>\n",
              "      <td>10</td>\n",
              "      <td>2</td>\n",
              "      <td>3</td>\n",
              "      <td>0</td>\n",
              "    </tr>\n",
              "    <tr>\n",
              "      <th>1</th>\n",
              "      <td>Actual_One</td>\n",
              "      <td>0</td>\n",
              "      <td>1113</td>\n",
              "      <td>3</td>\n",
              "      <td>2</td>\n",
              "      <td>0</td>\n",
              "      <td>1</td>\n",
              "      <td>3</td>\n",
              "      <td>2</td>\n",
              "      <td>11</td>\n",
              "      <td>0</td>\n",
              "    </tr>\n",
              "    <tr>\n",
              "      <th>2</th>\n",
              "      <td>Actual_Two</td>\n",
              "      <td>8</td>\n",
              "      <td>4</td>\n",
              "      <td>947</td>\n",
              "      <td>10</td>\n",
              "      <td>8</td>\n",
              "      <td>0</td>\n",
              "      <td>15</td>\n",
              "      <td>14</td>\n",
              "      <td>20</td>\n",
              "      <td>6</td>\n",
              "    </tr>\n",
              "    <tr>\n",
              "      <th>3</th>\n",
              "      <td>Actual_Three</td>\n",
              "      <td>3</td>\n",
              "      <td>0</td>\n",
              "      <td>20</td>\n",
              "      <td>929</td>\n",
              "      <td>0</td>\n",
              "      <td>17</td>\n",
              "      <td>3</td>\n",
              "      <td>14</td>\n",
              "      <td>14</td>\n",
              "      <td>10</td>\n",
              "    </tr>\n",
              "    <tr>\n",
              "      <th>4</th>\n",
              "      <td>Actual_Four</td>\n",
              "      <td>1</td>\n",
              "      <td>1</td>\n",
              "      <td>5</td>\n",
              "      <td>0</td>\n",
              "      <td>910</td>\n",
              "      <td>0</td>\n",
              "      <td>13</td>\n",
              "      <td>4</td>\n",
              "      <td>7</td>\n",
              "      <td>41</td>\n",
              "    </tr>\n",
              "    <tr>\n",
              "      <th>5</th>\n",
              "      <td>Actual_Five</td>\n",
              "      <td>11</td>\n",
              "      <td>4</td>\n",
              "      <td>4</td>\n",
              "      <td>32</td>\n",
              "      <td>8</td>\n",
              "      <td>779</td>\n",
              "      <td>18</td>\n",
              "      <td>7</td>\n",
              "      <td>19</td>\n",
              "      <td>10</td>\n",
              "    </tr>\n",
              "    <tr>\n",
              "      <th>6</th>\n",
              "      <td>Actual_Six</td>\n",
              "      <td>11</td>\n",
              "      <td>3</td>\n",
              "      <td>5</td>\n",
              "      <td>1</td>\n",
              "      <td>12</td>\n",
              "      <td>8</td>\n",
              "      <td>914</td>\n",
              "      <td>2</td>\n",
              "      <td>2</td>\n",
              "      <td>0</td>\n",
              "    </tr>\n",
              "    <tr>\n",
              "      <th>7</th>\n",
              "      <td>Actual_Seven</td>\n",
              "      <td>3</td>\n",
              "      <td>8</td>\n",
              "      <td>23</td>\n",
              "      <td>5</td>\n",
              "      <td>5</td>\n",
              "      <td>0</td>\n",
              "      <td>0</td>\n",
              "      <td>957</td>\n",
              "      <td>3</td>\n",
              "      <td>24</td>\n",
              "    </tr>\n",
              "    <tr>\n",
              "      <th>8</th>\n",
              "      <td>Actual_Eight</td>\n",
              "      <td>8</td>\n",
              "      <td>7</td>\n",
              "      <td>6</td>\n",
              "      <td>18</td>\n",
              "      <td>8</td>\n",
              "      <td>16</td>\n",
              "      <td>11</td>\n",
              "      <td>12</td>\n",
              "      <td>880</td>\n",
              "      <td>8</td>\n",
              "    </tr>\n",
              "    <tr>\n",
              "      <th>9</th>\n",
              "      <td>Actual_Nine</td>\n",
              "      <td>11</td>\n",
              "      <td>6</td>\n",
              "      <td>1</td>\n",
              "      <td>8</td>\n",
              "      <td>30</td>\n",
              "      <td>3</td>\n",
              "      <td>1</td>\n",
              "      <td>18</td>\n",
              "      <td>6</td>\n",
              "      <td>925</td>\n",
              "    </tr>\n",
              "  </tbody>\n",
              "</table>\n",
              "</div>"
            ],
            "text/plain": [
              "  confusion_matrix  Predicted_Zero  ...  Predicted_Eight  Predicted_Nine\n",
              "0      Actual_Zero             959  ...                3               0\n",
              "1       Actual_One               0  ...               11               0\n",
              "2       Actual_Two               8  ...               20               6\n",
              "3     Actual_Three               3  ...               14              10\n",
              "4      Actual_Four               1  ...                7              41\n",
              "5      Actual_Five              11  ...               19              10\n",
              "6       Actual_Six              11  ...                2               0\n",
              "7     Actual_Seven               3  ...                3              24\n",
              "8     Actual_Eight               8  ...              880               8\n",
              "9      Actual_Nine              11  ...                6             925\n",
              "\n",
              "[10 rows x 11 columns]"
            ]
          },
          "metadata": {
            "tags": []
          },
          "execution_count": 59
        }
      ]
    },
    {
      "cell_type": "code",
      "metadata": {
        "id": "zM_Fkqwy72br"
      },
      "source": [
        ""
      ],
      "execution_count": null,
      "outputs": []
    }
  ]
}